{
 "cells": [
  {
   "cell_type": "markdown",
   "metadata": {},
   "source": [
    "# 3D atom calculations using PSI4"
   ]
  },
  {
   "cell_type": "code",
   "execution_count": 1,
   "metadata": {},
   "outputs": [],
   "source": [
    "import psi4"
   ]
  },
  {
   "cell_type": "code",
   "execution_count": 2,
   "metadata": {},
   "outputs": [
    {
     "name": "stdout",
     "output_type": "stream",
     "text": [
      "  Threads set to 4 by Python driver.\n",
      "\n",
      "  Memory set to  11.176 GiB by Python driver.\n"
     ]
    }
   ],
   "source": [
    "psi4.core.set_num_threads(4)\n",
    "psi4.set_memory('12 Gb') # psi4 memory \n",
    "options_dict = {'basis': 'aug-cc-pvqz',\n",
    "                'puream': True, # False for cartesian basis sets\n",
    "                'reference' : 'rhf',\n",
    "                'scf_type' : 'pk',\n",
    "                'e_convergence' : 1e-12,\n",
    "                'd_convergence' : 1e-10}\n",
    "psi4.set_options(options_dict) "
   ]
  },
  {
   "cell_type": "code",
   "execution_count": 3,
   "metadata": {},
   "outputs": [],
   "source": [
    "geometry = \"\"\"\n",
    "{charge} 1\n",
    "\n",
    "{atom} 0.000 0.000 0.000\n",
    "\n",
    "units angstrom\n",
    "symmetry c1\n",
    "\"\"\"\n",
    "atoms = ['H', 'He', 'Li', 'Be', 'B', 'C']\n",
    "charges = ['-1', '0', '+1', '+2', '+3', '+4']"
   ]
  },
  {
   "cell_type": "code",
   "execution_count": 4,
   "metadata": {},
   "outputs": [
    {
     "name": "stdout",
     "output_type": "stream",
     "text": [
      "H Ground-state energy:              -0.4878081144412026 Eh\n",
      "He Ground-state energy:              -2.8615219956324562 Eh\n",
      "Li Ground-state energy:              -7.2363844846318797 Eh\n",
      "Be Ground-state energy:             -13.6112515375927998 Eh\n",
      "B Ground-state energy:             -21.9861585419740564 Eh\n",
      "C Ground-state energy:             -32.3610668139929558 Eh\n"
     ]
    }
   ],
   "source": [
    "e_scf = []\n",
    "for i in range(6):\n",
    "    geom_string = geometry.format(atom=atoms[i],charge=charges[i])\n",
    "    # print(geom_string)\n",
    "    psi4.geometry(geom_string) \n",
    "    # setting psi4 output\n",
    "    psi4.core.set_output_file('psi4_{atom}_output.dat'.format(atom=atoms[i]), False) \n",
    "    e_scf.append(psi4.energy('scf'))\n",
    "    print('{atom} Ground-state energy: {energy: 32.16f} Eh'.format(atom=atoms[i],energy=e_scf[i]))"
   ]
  },
  {
   "cell_type": "code",
   "execution_count": 5,
   "metadata": {},
   "outputs": [
    {
     "name": "stdout",
     "output_type": "stream",
     "text": [
      "H Ground-state energy:        -0.487808 Eh\n",
      "He Ground-state energy:        -2.861522 Eh\n",
      "Li Ground-state energy:        -7.236384 Eh\n",
      "Be Ground-state energy:       -13.611252 Eh\n",
      "B Ground-state energy:       -21.986159 Eh\n",
      "C Ground-state energy:       -32.361067 Eh\n"
     ]
    }
   ],
   "source": [
    "for i in range(6):\n",
    "     print('{atom} Ground-state energy: {energy: 16.6f} Eh'.format(atom=atoms[i],energy=e_scf[i]))"
   ]
  },
  {
   "cell_type": "code",
   "execution_count": 6,
   "metadata": {},
   "outputs": [],
   "source": [
    "psi4.core.clean()"
   ]
  },
  {
   "cell_type": "code",
   "execution_count": 7,
   "metadata": {},
   "outputs": [
    {
     "name": "stdout",
     "output_type": "stream",
     "text": [
      "H Ground-state energy:              -0.4878081144412026 Eh\n",
      "He Ground-state energy:              -2.8615219956324562 Eh\n",
      "Li Ground-state energy:              -7.2363844846318797 Eh\n",
      "Be Ground-state energy:             -13.6112515375927998 Eh\n",
      "B Ground-state energy:             -21.9861585419740564 Eh\n",
      "C Ground-state energy:             -32.3610668139929558 Eh\n"
     ]
    }
   ],
   "source": [
    "e_fci = []\n",
    "for i in range(6):\n",
    "    geom_string = geometry.format(atom=atoms[i],charge=charges[i])\n",
    "    # print(geom_string)\n",
    "    psi4.geometry(geom_string) \n",
    "    # setting psi4 output\n",
    "    psi4.core.set_output_file('psi4_{atom}_output.dat'.format(atom=atoms[i]), False) \n",
    "    e_fci.append(psi4.energy('fci'))\n",
    "    print('{atom} Ground-state energy: {energy: 32.16f} Eh'.format(atom=atoms[i],energy=e_scf[i]))\n",
    "    psi4.core.clean()"
   ]
  },
  {
   "cell_type": "code",
   "execution_count": 10,
   "metadata": {},
   "outputs": [
    {
     "name": "stdout",
     "output_type": "stream",
     "text": [
      "H        -0.487808        -0.527139        -0.039331   7.46\n",
      "He        -2.861522        -2.902534        -0.041012   1.41\n",
      "Li        -7.236384        -7.252572        -0.016188   0.22\n",
      "Be       -13.611252       -13.630409        -0.019157   0.14\n",
      "B       -21.986159       -22.005476        -0.019317   0.09\n",
      "C       -32.361067       -32.381245        -0.020178   0.06\n"
     ]
    }
   ],
   "source": [
    "for i in range(6):\n",
    "     ecorr = e_fci[i]- e_scf[i]\n",
    "     percent_corr = ecorr/e_fci[i] * 100\n",
    "     print('{atom} {scf: 16.6f} {fci: 16.6f} {corr: 16.6f} {percent_corr: 6.2f}'.format(atom=atoms[i],scf=e_scf[i],fci=e_fci[i],corr=ecorr, percent_corr=percent_corr))"
   ]
  },
  {
   "cell_type": "code",
   "execution_count": null,
   "metadata": {},
   "outputs": [],
   "source": []
  }
 ],
 "metadata": {
  "kernelspec": {
   "display_name": "p4dev",
   "language": "python",
   "name": "python3"
  },
  "language_info": {
   "codemirror_mode": {
    "name": "ipython",
    "version": 3
   },
   "file_extension": ".py",
   "mimetype": "text/x-python",
   "name": "python",
   "nbconvert_exporter": "python",
   "pygments_lexer": "ipython3",
   "version": "3.12.1"
  }
 },
 "nbformat": 4,
 "nbformat_minor": 2
}
