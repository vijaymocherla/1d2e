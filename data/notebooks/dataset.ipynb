{
 "cells": [
  {
   "cell_type": "markdown",
   "metadata": {},
   "source": [
    "# Dataset of 1D atoms"
   ]
  },
  {
   "cell_type": "code",
   "execution_count": 1,
   "metadata": {},
   "outputs": [],
   "source": [
    "import os\n",
    "import pandas as pd\n",
    "import numpy as np"
   ]
  },
  {
   "cell_type": "code",
   "execution_count": 2,
   "metadata": {},
   "outputs": [],
   "source": [
    "def get_energy(filename):\n",
    "    file = open(filename,'r')\n",
    "    data = file.readlines()\n",
    "    file.close()\n",
    "    filetype = filename.split('/')[-1] \n",
    "    if  filetype == 'imag_tprop.out':\n",
    "        energy = float(data[-2].split('=')[1])\n",
    "    elif filetype == 'scf_cycle.out':\n",
    "        energy = float(data[-1].split(':')[-1])\n",
    "    elif filetype == 'exact.log':\n",
    "        energy = float(data[-2].split(':')[-1])\n",
    "    else:\n",
    "        energy = np.NaN\n",
    "    return energy"
   ]
  },
  {
   "cell_type": "code",
   "execution_count": 28,
   "metadata": {},
   "outputs": [],
   "source": [
    "alpha = ['1e00', '1e-1', '1e-2']\n",
    "beta = ['1e00', '1e-1', '1e-2']\n",
    "atom_nos = [1,2,3,4,5,6]\n",
    "ngrid = [32, 64, 128,256]\n",
    "atoms_dict = {}\n",
    "i = 1\n",
    "for z in atom_nos:\n",
    "    atomdir = 'z_{z}'.format(z=z)\n",
    "    for a in alpha:\n",
    "        for b in beta:\n",
    "            jobdir = 'alpha_{a}_beta_{b}'.format(a=a,b=b)\n",
    "            for n in ngrid:\n",
    "                ndir = 'n_{n}'.format(n=n)\n",
    "                path='../{atomdir}/{jobdir}/{ndir}'.format(atomdir=atomdir,jobdir=jobdir, ndir=ndir)\n",
    "                if n>128:\n",
    "                    try:\n",
    "                        exact_filename=os.path.join(path,'imag_tprop.out')\n",
    "                        e_exact = get_energy(exact_filename)\n",
    "                    except:\n",
    "                        e_exact = 0.0\n",
    "                else:\n",
    "                    exact_filename = os.path.join(path,'exact.log')\n",
    "                    e_exact = get_energy(exact_filename)\n",
    "                scf_filename = os.path.join(path,'scf_cycle.out')\n",
    "                e_scf = get_energy(scf_filename)\n",
    "                atoms_dict[i] = [int(z), float(a), float(b), int(n), e_scf, e_exact]\n",
    "                i += 1"
   ]
  },
  {
   "cell_type": "code",
   "execution_count": 29,
   "metadata": {},
   "outputs": [],
   "source": [
    "columns = ['z','alpha','beta', 'ngrid','e_scf','e_exact']\n",
    "df = pd.DataFrame.from_dict(atoms_dict, orient='index')\n",
    "df.columns=columns"
   ]
  },
  {
   "cell_type": "code",
   "execution_count": 30,
   "metadata": {},
   "outputs": [
    {
     "name": "stdout",
     "output_type": "stream",
     "text": [
      "     z  alpha  beta  ngrid      e_scf    e_exact\n",
      "1    1   1.00  1.00     32  -0.688122  -0.727859\n",
      "2    1   1.00  1.00     64  -0.692022  -0.730726\n",
      "3    1   1.00  1.00    128  -0.692025  -0.730727\n",
      "4    1   1.00  1.00    256  -0.692024  -0.730726\n",
      "5    1   1.00  0.10     32  -0.370723  -0.650037\n",
      "..  ..    ...   ...    ...        ...        ...\n",
      "212  6   0.01  0.10    256 -69.764672   0.000000\n",
      "213  6   0.01  0.01     32 -17.680556 -20.475360\n",
      "214  6   0.01  0.01     64 -36.195000 -37.049447\n",
      "215  6   0.01  0.01    128 -57.145618 -57.286531\n",
      "216  6   0.01  0.01    256 -66.297875   0.000000\n",
      "\n",
      "[216 rows x 6 columns]\n"
     ]
    }
   ],
   "source": [
    "print(df)"
   ]
  },
  {
   "cell_type": "code",
   "execution_count": 26,
   "metadata": {},
   "outputs": [],
   "source": [
    "df2 = df[df['z']==2][['e_scf','e_exact']]"
   ]
  },
  {
   "cell_type": "code",
   "execution_count": 27,
   "metadata": {},
   "outputs": [
    {
     "data": {
      "text/plain": [
       "<Axes: >"
      ]
     },
     "execution_count": 27,
     "metadata": {},
     "output_type": "execute_result"
    },
    {
     "data": {
      "image/png": "[encoded data removed]",
      "text/plain": [
       "<Figure size 640x480 with 1 Axes>"
      ]
     },
     "metadata": {},
     "output_type": "display_data"
    }
   ],
   "source": [
    "df2.boxplot()"
   ]
  },
  {
   "cell_type": "code",
   "execution_count": null,
   "metadata": {},
   "outputs": [],
   "source": []
  }
 ],
 "metadata": {
  "kernelspec": {
   "display_name": "p4dev",
   "language": "python",
   "name": "python3"
  },
  "language_info": {
   "codemirror_mode": {
    "name": "ipython",
    "version": 3
   },
   "file_extension": ".py",
   "mimetype": "text/x-python",
   "name": "python",
   "nbconvert_exporter": "python",
   "pygments_lexer": "ipython3",
   "version": "3.10.11"
  }
 },
 "nbformat": 4,
 "nbformat_minor": 2
}
